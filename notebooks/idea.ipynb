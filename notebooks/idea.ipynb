{
 "cells": [
  {
   "cell_type": "code",
   "execution_count": null,
   "metadata": {},
   "outputs": [],
   "source": [
    "\n",
    "# Расчет маршрутов и времени в пути\n",
    "import networkx as nx\n",
    "\n",
    "G = nx.Graph()\n",
    "for _, row in streets_combined.iterrows():\n",
    "    # Добавьте ребра в граф, используя геометрию улиц\n",
    "    pass\n",
    "\n",
    "# Расчет кратчайшего пути\n",
    "shortest_path = nx.shortest_path(G, source='A', target='B')\n"
   ]
  }
 ],
 "metadata": {
  "kernelspec": {
   "display_name": "Python 3",
   "language": "python",
   "name": "python3"
  },
  "language_info": {
   "name": "python",
   "version": "3.12.4"
  }
 },
 "nbformat": 4,
 "nbformat_minor": 2
}
